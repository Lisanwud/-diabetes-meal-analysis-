{
 "cells": [
  {
   "cell_type": "markdown",
   "metadata": {},
   "source": [
    "# Download Food-101 Dataset\n",
    "\n",
    "This notebook downloads the Food-101 dataset from ETH Zurich and organizes it for use in the AI-Powered Meal Image Analysis project."
   ]
  },
  {
   "cell_type": "code",
   "execution_count": 1,
   "metadata": {},
   "outputs": [],
   "source": [
    "import os\n",
    "import requests\n",
    "import tarfile\n",
    "import shutil"
   ]
  },
  {
   "cell_type": "markdown",
   "metadata": {},
   "source": [
    "## Download Dataset\n",
    "\n",
    "Download the Food-101 dataset from the provided URL and extract it to the `data/food101` directory."
   ]
  },
  {
   "cell_type": "code",
   "execution_count": 2,
   "metadata": {},
   "outputs": [
    {
     "name": "stdout",
     "output_type": "stream",
     "text": [
      "Downloading Food-101 dataset...\n",
      "Download complete.\n",
      "Extracting dataset...\n",
      "Extraction complete.\n",
      "Cleaned up temporary files.\n"
     ]
    }
   ],
   "source": [
    "# Define paths\n",
    "data_dir = '../data/food101'\n",
    "os.makedirs(data_dir, exist_ok=True)\n",
    "dataset_url = 'http://data.vision.ee.ethz.ch/cvl/food-101.tar.gz'\n",
    "tar_path = os.path.join(data_dir, 'food-101.tar.gz')\n",
    "\n",
    "# Download the dataset\n",
    "print('Downloading Food-101 dataset...')\n",
    "response = requests.get(dataset_url, stream=True)\n",
    "with open(tar_path, 'wb') as f:\n",
    "    for chunk in response.iter_content(chunk_size=8192):\n",
    "        f.write(chunk)\n",
    "print('Download complete.')\n",
    "\n",
    "# Extract the tar file\n",
    "print('Extracting dataset...')\n",
    "with tarfile.open(tar_path, 'r:gz') as tar:\n",
    "    tar.extractall(data_dir)\n",
    "print('Extraction complete.')\n",
    "\n",
    "# Clean up\n",
    "os.remove(tar_path)\n",
    "print('Cleaned up temporary files.')"
   ]
  },
  {
   "cell_type": "markdown",
   "metadata": {},
   "source": [
    "## Verify Directory Structure\n",
    "\n",
    "Ensure the dataset is extracted correctly and contains the expected structure."
   ]
  },
  {
   "cell_type": "code",
   "execution_count": 3,
   "metadata": {},
   "outputs": [
    {
     "name": "stdout",
     "output_type": "stream",
     "text": [
      "Food-101 dataset extracted to: ../data/food101/food-101\n",
      "Sample directories: ['foie_gras', 'club_sandwich', 'cheese_plate', 'cup_cakes', 'garlic_bread']\n"
     ]
    }
   ],
   "source": [
    "# Check extracted directory\n",
    "extracted_dir = os.path.join(data_dir, 'food-101')\n",
    "if os.path.exists(extracted_dir):\n",
    "    print('Food-101 dataset extracted to:', extracted_dir)\n",
    "    print('Sample directories:', os.listdir(os.path.join(extracted_dir, 'images'))[:5])\n",
    "else:\n",
    "    print('Error: Dataset not extracted properly.')"
   ]
  }
 ],
 "metadata": {
  "kernelspec": {
   "display_name": "Python 3 (ipykernel)",
   "language": "python",
   "name": "python3"
  },
  "language_info": {
   "codemirror_mode": {
    "name": "ipython",
    "version": 3
   },
   "file_extension": ".py",
   "mimetype": "text/x-python",
   "name": "python",
   "nbconvert_exporter": "python",
   "pygments_lexer": "ipython3",
   "version": "3.11.11"
  }
 },
 "nbformat": 4,
 "nbformat_minor": 4
}
